{
 "cells": [
  {
   "cell_type": "markdown",
   "metadata": {},
   "source": [
    "Create a list of all of the integers from 1 to 100 using range"
   ]
  },
  {
   "cell_type": "code",
   "execution_count": 1,
   "metadata": {},
   "outputs": [],
   "source": [
    "list_of_ints = []\n",
    "\n",
    "### Solution goes here\n",
    "\n",
    "### End Solution\n",
    "\n",
    "assert (type(list_of_ints)==list)\n",
    "assert (len(list_of_ints) == 100)\n",
    "assert (list_of_ints[0] == 1)\n",
    "assert (list_of_ints[99] == 99)\n"
   ]
  }
 ],
 "metadata": {
  "kernelspec": {
   "display_name": "Python 3",
   "language": "python",
   "name": "python3"
  },
  "language_info": {
   "codemirror_mode": {
    "name": "ipython",
    "version": 3
   },
   "file_extension": ".py",
   "mimetype": "text/x-python",
   "name": "python",
   "nbconvert_exporter": "python",
   "pygments_lexer": "ipython3",
   "version": "3.10.11"
  }
 },
 "nbformat": 4,
 "nbformat_minor": 2
}
