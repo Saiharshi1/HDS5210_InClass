{
 "cells": [
  {
   "cell_type": "markdown",
   "metadata": {},
   "source": [
    "Design a dictionary data structure for the following scenario:\n",
    "\n",
    "In this data structure, we’re dealing with families that might have multiple people.\n",
    "Each family has a family name that is unique\n",
    "Each family has a list of family members in it\n",
    "Each family member has a first name, a last name, and and age\n",
    "\n",
    "Create a dictionary for four fictitious families each with at least three family members, then compute and output the average age for each family.\n",
    "\n",
    "What data types do we need for each requirement?"
   ]
  },
  {
   "cell_type": "code",
   "execution_count": null,
   "metadata": {},
   "outputs": [],
   "source": [
    "\n",
    "### START SOLUTION\n",
    "\n",
    "### END SOLUTION"
   ]
  }
 ],
 "metadata": {
  "language_info": {
   "name": "python"
  }
 },
 "nbformat": 4,
 "nbformat_minor": 2
}
