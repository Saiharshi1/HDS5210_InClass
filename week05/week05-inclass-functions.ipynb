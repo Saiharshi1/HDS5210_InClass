{
 "cells": [
  {
   "cell_type": "markdown",
   "metadata": {},
   "source": [
    "### Default Parameters\n",
    "Nurses usually take a patient's heart beat for 15 seconds. Use a default argument to set the number of seconds in the following function. \n",
    "\n",
    "How does that change the number of parameters in the function call?"
   ]
  },
  {
   "cell_type": "code",
   "execution_count": null,
   "metadata": {
    "vscode": {
     "languageId": "plaintext"
    }
   },
   "outputs": [],
   "source": [
    "#Set a default value for seconds\n",
    "def heart_beat_per_minute(beats, seconds) : \n",
    "    multiplier = 60 / seconds\n",
    "    return beats * multiplier\n",
    "\n",
    "#Change this function call\n",
    "heart_beat_per_minute(20, 15)"
   ]
  },
  {
   "cell_type": "code",
   "execution_count": null,
   "metadata": {
    "vscode": {
     "languageId": "plaintext"
    }
   },
   "outputs": [],
   "source": [
    "#Which of these function calls do you need to change?\n",
    "\n",
    "assert(heart_beat_per_minute(20, 15) == 80)\n",
    "assert(heart_beat_per_minute(20, 20) == 60)"
   ]
  },
  {
   "cell_type": "markdown",
   "metadata": {},
   "source": [
    "### Named Arguments\n",
    "Use named arguments in the function call to specify number of seconds first and beats second."
   ]
  },
  {
   "cell_type": "code",
   "execution_count": null,
   "metadata": {
    "vscode": {
     "languageId": "plaintext"
    }
   },
   "outputs": [],
   "source": [
    "# Use named arguments\n",
    "heart_beat_per_minute(20, 15)"
   ]
  },
  {
   "cell_type": "markdown",
   "metadata": {},
   "source": [
    "### Arbitary List\n",
    "Use an arbitary list parameter to create a list that looks like \"First Last\""
   ]
  },
  {
   "cell_type": "code",
   "execution_count": null,
   "metadata": {
    "vscode": {
     "languageId": "plaintext"
    }
   },
   "outputs": [],
   "source": [
    "def combine_names() :\n",
    "    names = []\n",
    "\n",
    "    # Do something\n",
    "\n",
    "    return names"
   ]
  },
  {
   "cell_type": "code",
   "execution_count": null,
   "metadata": {
    "vscode": {
     "languageId": "plaintext"
    }
   },
   "outputs": [],
   "source": [
    "expected = [\"Mickey Mouse\", \"Minnie Mouse\", \"Mighty Mouse\"]\n",
    "assert(combine_names(\"Mouse\", \"Mickey\", \"Minnie\", \"Mighty\") == expected)"
   ]
  }
 ],
 "metadata": {
  "kernelspec": {
   "display_name": "Python 3",
   "language": "python",
   "name": "python3"
  },
  "language_info": {
   "codemirror_mode": {
    "name": "ipython",
    "version": 3
   },
   "file_extension": ".py",
   "mimetype": "text/x-python",
   "name": "python",
   "nbconvert_exporter": "python",
   "pygments_lexer": "ipython3",
   "version": "3.10.11"
  }
 },
 "nbformat": 4,
 "nbformat_minor": 2
}
