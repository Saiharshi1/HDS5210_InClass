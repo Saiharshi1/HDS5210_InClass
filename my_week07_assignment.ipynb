{
  "nbformat": 4,
  "nbformat_minor": 0,
  "metadata": {
    "colab": {
      "provenance": [],
      "toc_visible": true,
      "authorship_tag": "ABX9TyO/XozFDCzwj4+NsQBIE399",
      "include_colab_link": true
    },
    "kernelspec": {
      "name": "python3",
      "display_name": "Python 3"
    },
    "language_info": {
      "name": "python"
    }
  },
  "cells": [
    {
      "cell_type": "markdown",
      "metadata": {
        "id": "view-in-github",
        "colab_type": "text"
      },
      "source": [
        "<a href=\"https://colab.research.google.com/github/Saiharshi1/HDS5210_InClass/blob/master/my_week07_assignment.ipynb\" target=\"_parent\"><img src=\"https://colab.research.google.com/assets/colab-badge.svg\" alt=\"Open In Colab\"/></a>"
      ]
    },
    {
      "cell_type": "code",
      "execution_count": 10,
      "metadata": {
        "colab": {
          "base_uri": "https://localhost:8080/"
        },
        "id": "yXDjzRWqsO9y",
        "outputId": "8a10f3d4-e85d-4ded-f03c-8d6b9efb27c5"
      },
      "outputs": [
        {
          "output_type": "stream",
          "name": "stdout",
          "text": [
            "Name: Sai Harshitha Konduru\n",
            "Email: saiharshitha.konduru@slu.edu\n",
            "Year Born: 2002\n"
          ]
        }
      ],
      "source": [
        "import json\n",
        "\n",
        "# The JSON string we created\n",
        "hds5210 = \"\"\"\n",
        "{\n",
        "  \"personal_info\": {\n",
        "    \"name\": \"Sai Harshitha Konduru\",\n",
        "    \"email\": \"saiharshitha.konduru@slu.edu\",\n",
        "    \"year_born\": 2002\n",
        "  }\n",
        "}\n",
        "\"\"\"\n",
        "\n",
        "# Convert the string to a Python dictionary\n",
        "info = json.loads(hds5210)\n",
        "\n",
        "# Extract and format the personal information\n",
        "name = info[\"personal_info\"][\"name\"]\n",
        "email = info[\"personal_info\"][\"email\"]\n",
        "year_born = info[\"personal_info\"][\"year_born\"]\n",
        "\n",
        "# Print out the personal information\n",
        "print(f\"Name: {name}\")\n",
        "print(f\"Email: {email}\")\n",
        "print(f\"Year Born: {year_born}\")\n"
      ]
    },
    {
      "cell_type": "code",
      "source": [
        "# Load the JSON string into a Python dictionary\n",
        "info = json.loads(hds5210)\n",
        "\n",
        "# Extracting personal information\n",
        "name = info[\"personal_info\"][\"name\"]\n",
        "email = info[\"personal_info\"][\"email\"]\n",
        "year_born = info[\"personal_info\"][\"year_born\"]\n",
        "\n",
        "# Start constructing the paragraph\n",
        "paragraph = f\"My name is {name}. I was born in {year_born} and can be contacted at {email}.\\n\\n\"\n",
        "\n",
        "#print the final output\n",
        "print(paragraph)"
      ],
      "metadata": {
        "colab": {
          "base_uri": "https://localhost:8080/"
        },
        "id": "r-TIRqoivqY5",
        "outputId": "e3f32142-e1d1-41a9-da29-87e97d0675a9"
      },
      "execution_count": 11,
      "outputs": [
        {
          "output_type": "stream",
          "name": "stdout",
          "text": [
            "My name is Sai Harshitha Konduru. I was born in 2002 and can be contacted at saiharshitha.konduru@slu.edu.\n",
            "\n",
            "\n"
          ]
        }
      ]
    },
    {
      "cell_type": "markdown",
      "source": [
        "# My Notebook Information\n",
        "**Name**: Sai Harshitha Konduru  \n",
        "**Email**: Saiharshitha.konduru@slu.edu  \n",
        "**Born Year**: 2002             \n",
        "**Assignment Date**: October 8, 2024              \n",
        "**Most Challenging thing**:Submitting the assignment to github. I am able to do the assignment but couldn't submit it to github.\n"
      ],
      "metadata": {
        "id": "2bDsm9r1thS9"
      }
    }
  ]
}