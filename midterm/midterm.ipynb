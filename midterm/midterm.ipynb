{
  "cells": [
    {
      "cell_type": "markdown",
      "metadata": {
        "id": "CUrZsR63Z37e"
      },
      "source": [
        "### Mid-term for HDS5210\n",
        "\n",
        "Your supervisor is concerned about 4-year survival risks for COPD. She has asked for you to do some analysis using a new metric, BODE. BODE is an improvement on a previous metric and promises to provide insight on survival risks.\n",
        "\n",
        "BODE is defined here. https://www.mdcalc.com/calc/3916/bode-index-copd-survival#evidence\n",
        "\n",
        "Your assignment is to create a BODE calculation, use it to calculate BODE scores and BODE survival rates for a group of patients. Then we want to evaluate the average BODE scores and BODE survival rates for each area hospital.\n",
        "\n",
        "Your patient input file will have the following columns:\n",
        "NAME,SSN,LANGUAGE,JOB,HEIGHT_M,WEIGHT_KG,fev_pct,dyspnea_description,distance_in_meters,hospital\n",
        "\n",
        "BODE calculations require a BMI value, so you will have to create a function for it.\n",
        "\n",
        "Your output should be in the form of two CSV files, patient_output.csv and hospital_output.csv.\n",
        "\n",
        "Patient_output will have the following columns:\n",
        "NAME,BODE_SCORE,BODE_RISK,HOSPITAL\n",
        "\n",
        "Hospital output will have the following columns:\n",
        "HOSPITAL_NAME, COPD_COUNT, PCT_OF_COPD_CASES_OVER_BEDS, AVG_SCORE, AVG_RISK\n",
        "\n",
        "Each function you create should have documentation and a suitable number of test cases. If the input data could be wrong, make sure to raise a Value Error.\n",
        "\n",
        "For this assignment, use the doctest, json, and csv libraries. Pandas is not allowed for this assignment."
      ]
    },
    {
      "cell_type": "code",
      "execution_count": 4,
      "metadata": {
        "id": "Ot0kE2WJZ37l"
      },
      "outputs": [],
      "source": [
        "import doctest\n",
        "import json\n",
        "import csv"
      ]
    },
    {
      "cell_type": "markdown",
      "metadata": {
        "id": "MDbCoFuSZ37o"
      },
      "source": [
        "### Step 1: Calculate BMI"
      ]
    },
    {
      "cell_type": "code",
      "execution_count": 6,
      "metadata": {
        "id": "3FwdS5w3Z37p"
      },
      "outputs": [],
      "source": [
        "def calculate_bmi(height_m, weight_kg):\n",
        "   \"\"\"\n",
        "    Calculate Body Mass Index (BMI) using the formula:\n",
        "\n",
        "    BMI = weight_kg / (height_m^2)\n",
        "\n",
        "    Args:\n",
        "        weight_kg (float): The weight of the patient in kilograms.\n",
        "        height_m (float): The height of the patient in meters.\n",
        "\n",
        "    Returns:\n",
        "        float: The calculated BMI.\n",
        "\n",
        "    Raises:\n",
        "        ValueError: If weight or height is non-positive.\n",
        "\n",
        "    >>> calculate_bmi(90.28, 1.72)\n",
        "    30.53\n",
        "    >>> calculate_bmi(83.09, 1.64)\n",
        "    30.88\n",
        "    \"\"\"\n",
        "   if weight_kg <= 0 or height_m <= 0:\n",
        "        raise ValueError(\"Weight and height must be positive values.\")\n",
        "\n",
        "   return weight_kg / (height_m ** 2)\n",
        "\n"
      ]
    },
    {
      "cell_type": "markdown",
      "metadata": {
        "id": "af3G5RyvZ37q"
      },
      "source": [
        "### Step 2: Calculate BODE Score"
      ]
    },
    {
      "cell_type": "code",
      "source": [
        "def calculate_bode(fev_pct, distance_m, dyspnea, bmi):\n",
        "    \"\"\"Calculates BODE score.\"\"\"\n",
        "    # Placeholder for actual BODE score calculation logic\n",
        "    # Replace with your actual calculation based on the provided parameters\n",
        "    # This is just an example and may not be medically accurate\n",
        "    bode_score = 0\n",
        "    if fev_pct < 50:\n",
        "        bode_score += 2\n",
        "    if distance_m < 350:\n",
        "        bode_score += 3\n",
        "    if dyspnea == \"severe\":\n",
        "        bode_score += 3\n",
        "    elif dyspnea == \"moderate\":\n",
        "        bode_score += 2\n",
        "    if bmi < 21:\n",
        "        bode_score += 1\n",
        "    return bode_score"
      ],
      "metadata": {
        "id": "FZ-R0j3g44r6"
      },
      "execution_count": 28,
      "outputs": []
    },
    {
      "cell_type": "code",
      "execution_count": 29,
      "metadata": {
        "id": "mv-j1u6vZ37q"
      },
      "outputs": [],
      "source": [
        " def calculate_bode_score(bmi, fev_pct, dyspnea_description, distance_m):\n",
        "    \"\"\"\n",
        "    Calculate the BODE score based on the following criteria:\n",
        "    - BMI score\n",
        "    - FEV% score\n",
        "    - Dyspnea score\n",
        "    - Distance walked score\n",
        "\n",
        "    Args:\n",
        "        bmi (float): Body Mass Index of the patient.\n",
        "        fev_pct (float): Percentage of forced expiratory volume.\n",
        "        dyspnea_description (str): Description of the patient's dyspnea.\n",
        "        distance_m (float): The distance the patient can walk in 6 minutes (in meters).\n",
        "\n",
        "    Returns:\n",
        "        tuple: (BODE score, BODE risk category)\n",
        "\n",
        "    >>> calculate_bode(57.73, 367.9, 'STOPS AFTER A FEW MINUTES', 30.53)\n",
        "    2\n",
        "    \"\"\"\n",
        "\n",
        "    # BMI scoring\n",
        "    if bmi < 21:\n",
        "        bmi_score = 0\n",
        "    elif 21 <= bmi <= 25:\n",
        "        bmi_score = 1\n",
        "    elif 26 <= bmi <= 30:\n",
        "        bmi_score = 2\n",
        "    else:\n",
        "        bmi_score = 3\n",
        "\n",
        "\n",
        "    # FEV% scoring\n",
        "    fev_score = 0\n",
        "    if fev_pct >= 65:\n",
        "        fev_score = 0\n",
        "    elif 50 <= fev_pct < 65:\n",
        "        fev_score = 1\n",
        "    elif 36 <= fev_pct < 50:\n",
        "        fev_score = 2\n",
        "    else:\n",
        "        fev_score = 3\n",
        "\n",
        "    # Dyspnea scoring\n",
        "    dyspnea_score = 0\n",
        "    dyspnea_map = {\n",
        "        \"ONLY STRENUOUS EXERCISE\": 0,\n",
        "        \"WHEN HURRYING\": 0,\n",
        "        \"SLOWER THAN PEERS\": 1,\n",
        "        \"STOPS AFTER 100 YARDS\": 2,\n",
        "        \"STOPS AFTER A FEW MINUTES\": 2,\n",
        "        \"BREATHLESS WHEN DRESSING\": 3,\n",
        "        \"UNABLE TO LEAVE HOME\": 3\n",
        "    }\n",
        "    dyspnea_score = dyspnea_map.get(dyspnea_desc, 0)\n",
        "\n",
        "    # Distance walked scoring\n",
        "    distance_score = 0\n",
        "    if distance_m >= 350:\n",
        "        distance_score = 0\n",
        "    elif 250 <= distance_m < 350:\n",
        "        distance_score = 1\n",
        "    elif 150 <= distance_m < 250:\n",
        "        distance_score = 2\n",
        "    else:\n",
        "        distance_score = 3\n",
        "\n",
        "    # Calculate total BODE score\n",
        "    total_bode_score = bmi_score + fev_score + dyspnea_score + distance_score\n",
        "\n"
      ]
    },
    {
      "cell_type": "markdown",
      "metadata": {
        "id": "SEgQc47UZ37q"
      },
      "source": [
        "### Step 3: Calculate BODE Risk"
      ]
    },
    {
      "cell_type": "code",
      "execution_count": 30,
      "metadata": {
        "id": "UBXjvPuhZ37r"
      },
      "outputs": [],
      "source": [
        "def calculate_bode_risk(bode_score):\n",
        "    \"\"\"\n",
        "    Calculate BODE survival risk based on BODE score.\n",
        "\n",
        "    :param bode_score: Total BODE score\n",
        "    :return: Survival percentage\n",
        "\n",
        "    >>> calculate_bode_risk(2)\n",
        "    80\n",
        "    >>> calculate_bode_risk(5)\n",
        "    57\n",
        "    \"\"\"\n",
        "    if 0 <= bode_score <= 2:\n",
        "        return 80\n",
        "    elif 3 <= bode_score <= 4:\n",
        "        return 67\n",
        "    elif 5 <= bode_score <= 6:\n",
        "        return 57\n",
        "    elif 7 <= bode_score <= 10:\n",
        "        return 18\n",
        "    else:\n",
        "        raise ValueError(\"Invalid BODE score.\")"
      ]
    },
    {
      "cell_type": "markdown",
      "metadata": {
        "id": "3vrm7xOKZ37s"
      },
      "source": [
        "### Step 4: Load Hospital Data"
      ]
    },
    {
      "cell_type": "code",
      "execution_count": 31,
      "metadata": {
        "id": "DlnGKhBhZ37t"
      },
      "outputs": [],
      "source": [
        "import urllib.request as r\n",
        "import json\n",
        "\n",
        "# Fetch the JSON data\n",
        "url = r.urlopen(\"https://hds5210-data.s3.amazonaws.com/hospitals.json\")\n",
        "content = url.read()\n",
        "\n",
        "# Parse the JSON data directly\n",
        "newDictionary = json.loads(content)"
      ]
    },
    {
      "cell_type": "code",
      "source": [
        "def load_hospital_data(file_name):\n",
        "    \"\"\"\n",
        "    Load hospital data from a JSON file.\n",
        "\n",
        "    :param file_name: JSON file name\n",
        "    :return: Hospital data dictionary\n",
        "    \"\"\"\n",
        "    with open(file_name, 'r') as file:\n",
        "        return json.load(file)\n",
        "\n",
        "hospital_data = load_hospital_data(\"hospitals.json\")\n"
      ],
      "metadata": {
        "id": "s4yMq4iM4SEJ"
      },
      "execution_count": 32,
      "outputs": []
    },
    {
      "cell_type": "markdown",
      "metadata": {
        "id": "e6lvVUeRZ37u"
      },
      "source": [
        "### Step 5: Main business logic\n",
        "\n",
        "Call BODE Score, BODE Risk functions for each patient.\n",
        "\n",
        "For each hospital, calculate Avg BODE score and Avg BODE risk and count the number of cases for each hospital."
      ]
    },
    {
      "cell_type": "code",
      "execution_count": 33,
      "metadata": {
        "id": "ce7dhjsmZ37v"
      },
      "outputs": [],
      "source": [
        "###\n",
        "def main(patient_csv, hospital_json):\n",
        "    patients = []\n",
        "    hospitals = {}\n",
        "\n",
        "    with open(patient_csv, newline='') as csvfile:\n",
        "        reader = csv.DictReader(csvfile)\n",
        "        for row in reader:\n",
        "            try:\n",
        "                name = row['NAME']\n",
        "                height = float(row['HEIGHT_M'])\n",
        "                weight = float(row['WEIGHT_KG'])\n",
        "                fev_pct = float(row['fev_pct'])\n",
        "                distance_m = float(row['distance_in_meters'])\n",
        "                dyspnea = row['dyspnea_description']\n",
        "                hospital = row['hospital']\n",
        "\n",
        "                bmi = calculate_bmi(weight, height)\n",
        "                bode_score = calculate_bode(fev_pct, distance_m, dyspnea, bmi)\n",
        "                bode_risk = calculate_bode_risk(bode_score)\n",
        "\n",
        "                patients.append([name, bode_score, bode_risk, hospital])\n",
        "\n",
        "                if hospital not in hospitals:\n",
        "                    hospitals[hospital] = {'count': 0, 'total_score': 0, 'total_risk': 0}\n",
        "\n",
        "                hospitals[hospital]['count'] += 1\n",
        "                hospitals[hospital]['total_score'] += bode_score\n",
        "                hospitals[hospital]['total_risk'] += bode_risk\n",
        "            except ValueError as e:\n",
        "                print(f\"Error processing patient {name}: {e}\")\n",
        "\n",
        "    # Write patient_output.csv\n",
        "    with open(\"patient_output.csv\", 'w', newline='') as csvfile:\n",
        "        writer = csv.writer(csvfile)\n",
        "        writer.writerow(['NAME', 'BODE_SCORE', 'BODE_RISK', 'HOSPITAL'])\n",
        "        writer.writerows(patients)\n",
        "\n",
        "    # Write hospital_output.csv\n",
        "    with open(\"hospital_output.csv\", 'w', newline='') as csvfile:\n",
        "        writer = csv.writer(csvfile)\n",
        "        writer.writerow(['HOSPITAL_NAME', 'COPD_COUNT', 'AVG_SCORE', 'AVG_RISK'])\n",
        "        for hospital, data in hospitals.items():\n",
        "            avg_score = data['total_score'] / data['count']\n",
        "            avg_risk = data['total_risk'] / data['count']\n",
        "            writer.writerow([hospital, data['count'], avg_score, avg_risk])\n",
        "\n",
        "# Call the main function\n",
        "main(\"patient.csv\", \"hospitals.json\")"
      ]
    }
  ],
  "metadata": {
    "language_info": {
      "name": "python"
    },
    "colab": {
      "provenance": []
    },
    "kernelspec": {
      "name": "python3",
      "display_name": "Python 3"
    }
  },
  "nbformat": 4,
  "nbformat_minor": 0
}