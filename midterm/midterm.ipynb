{
  "cells": [
    {
      "cell_type": "markdown",
      "metadata": {
        "id": "CUrZsR63Z37e"
      },
      "source": [
        "### Mid-term for HDS5210\n",
        "\n",
        "Your supervisor is concerned about 4-year survival risks for COPD. She has asked for you to do some analysis using a new metric, BODE. BODE is an improvement on a previous metric and promises to provide insight on survival risks.\n",
        "\n",
        "BODE is defined here. https://www.mdcalc.com/calc/3916/bode-index-copd-survival#evidence\n",
        "\n",
        "Your assignment is to create a BODE calculation, use it to calculate BODE scores and BODE survival rates for a group of patients. Then we want to evaluate the average BODE scores and BODE survival rates for each area hospital.\n",
        "\n",
        "Your patient input file will have the following columns:\n",
        "NAME,SSN,LANGUAGE,JOB,HEIGHT_M,WEIGHT_KG,fev_pct,dyspnea_description,distance_in_meters,hospital\n",
        "\n",
        "BODE calculations require a BMI value, so you will have to create a function for it.\n",
        "\n",
        "Your output should be in the form of two CSV files, patient_output.csv and hospital_output.csv.\n",
        "\n",
        "Patient_output will have the following columns:\n",
        "NAME,BODE_SCORE,BODE_RISK,HOSPITAL\n",
        "\n",
        "Hospital output will have the following columns:\n",
        "HOSPITAL_NAME, COPD_COUNT, PCT_OF_COPD_CASES_OVER_BEDS, AVG_SCORE, AVG_RISK\n",
        "\n",
        "Each function you create should have documentation and a suitable number of test cases. If the input data could be wrong, make sure to raise a Value Error.\n",
        "\n",
        "For this assignment, use the doctest, json, and csv libraries. Pandas is not allowed for this assignment."
      ]
    },
    {
      "cell_type": "code",
      "execution_count": 1,
      "metadata": {
        "id": "Ot0kE2WJZ37l"
      },
      "outputs": [],
      "source": [
        "import doctest\n",
        "import json\n",
        "import csv"
      ]
    },
    {
      "cell_type": "markdown",
      "metadata": {
        "id": "MDbCoFuSZ37o"
      },
      "source": [
        "### Step 1: Calculate BMI"
      ]
    },
    {
      "cell_type": "code",
      "execution_count": 4,
      "metadata": {
        "id": "3FwdS5w3Z37p"
      },
      "outputs": [],
      "source": [
        "def calculate_bmi(height_m, weight_kg):\n",
        "   \"\"\"\n",
        "    Calculate Body Mass Index (BMI) using the formula:\n",
        "\n",
        "    BMI = weight_kg / (height_m^2)\n",
        "\n",
        "    Args:\n",
        "        weight_kg (float): The weight of the patient in kilograms.\n",
        "        height_m (float): The height of the patient in meters.\n",
        "\n",
        "    Returns:\n",
        "        float: The calculated BMI.\n",
        "\n",
        "    Raises:\n",
        "        ValueError: If weight or height is non-positive.\n",
        "\n",
        "    >>> calculate_bmi(70, 1.75)\n",
        "    22.857142857142858\n",
        "    >>> calculate_bmi(85, 1.8)\n",
        "    26.23456790123457\n",
        "    \"\"\"\n",
        "   if weight_kg <= 0 or height_m <= 0:\n",
        "        raise ValueError(\"Weight and height must be positive values.\")\n",
        "\n",
        "   return weight_kg / (height_m ** 2)\n",
        "\n",
        "\n"
      ]
    },
    {
      "cell_type": "markdown",
      "metadata": {
        "id": "af3G5RyvZ37q"
      },
      "source": [
        "### Step 2: Calculate BODE Score"
      ]
    },
    {
      "cell_type": "code",
      "execution_count": 5,
      "metadata": {
        "id": "mv-j1u6vZ37q"
      },
      "outputs": [],
      "source": [
        " def calculate_bode_score(bmi, fev_pct, dyspnea_description, distance_m):\n",
        "    \"\"\"\n",
        "    Calculate the BODE score based on the following criteria:\n",
        "    - BMI score\n",
        "    - FEV% score\n",
        "    - Dyspnea score\n",
        "    - Distance walked score\n",
        "\n",
        "    Args:\n",
        "        bmi (float): Body Mass Index of the patient.\n",
        "        fev_pct (float): Percentage of forced expiratory volume.\n",
        "        dyspnea_description (str): Description of the patient's dyspnea.\n",
        "        distance_m (float): The distance the patient can walk in 6 minutes (in meters).\n",
        "\n",
        "    Returns:\n",
        "        tuple: (BODE score, BODE risk category)\n",
        "\n",
        "    >>> calculate_bode_score(22, 60, 'Moderate', 400)\n",
        "    (3, 'Moderate')\n",
        "    >>> calculate_bode_score(28, 40, 'Severe', 200)\n",
        "    (9, 'High')\n",
        "    \"\"\"\n",
        "\n",
        "    # BMI scoring\n",
        "    if bmi < 21:\n",
        "        bmi_score = 0\n",
        "    elif 21 <= bmi <= 25:\n",
        "        bmi_score = 1\n",
        "    elif 26 <= bmi <= 30:\n",
        "        bmi_score = 2\n",
        "    else:\n",
        "        bmi_score = 3\n",
        "\n",
        "    # FEV% scoring\n",
        "    if fev_pct > 80:\n",
        "        fev_score = 0\n",
        "    elif 50 <= fev_pct <= 80:\n",
        "        fev_score = 1\n",
        "    elif 30 <= fev_pct < 50:\n",
        "       fev_score = 2\n",
        "    else:\n",
        "        fev_score = 3\n",
        "\n",
        "    # Dyspnea scoring\n",
        "    dyspnea_mapping = {\n",
        "        'None': 0,\n",
        "        'Mild': 1,\n",
        "        'Moderate': 2,\n",
        "        'Severe': 3\n",
        "    }\n",
        "    dyspnea_score = dyspnea_mapping.get(dyspnea_description, 0)\n",
        "\n",
        "    # Distance walked scoring\n",
        "    if distance_m > 400:\n",
        "        distance_score = 0\n",
        "    elif 200 <= distance_m <= 400:\n",
        "        distance_score = 1\n",
        "    elif 100 <= distance_m < 200:\n",
        "        distance_score = 2\n",
        "    else:\n",
        "        distance_score = 3\n",
        "    # Calculate total BODE score\n",
        "    total_bode_score = bmi_score + fev_score + dyspnea_score + distance_score\n",
        "\n",
        "\n"
      ]
    },
    {
      "cell_type": "markdown",
      "metadata": {
        "id": "SEgQc47UZ37q"
      },
      "source": [
        "### Step 3: Calculate BODE Risk"
      ]
    },
    {
      "cell_type": "code",
      "execution_count": 10,
      "metadata": {
        "id": "UBXjvPuhZ37r",
        "outputId": "a8ba37c3-b533-4c3e-991d-0792e452e403",
        "colab": {
          "base_uri": "https://localhost:8080/",
          "height": 106
        }
      },
      "outputs": [
        {
          "output_type": "error",
          "ename": "IndentationError",
          "evalue": "unindent does not match any outer indentation level (<tokenize>, line 7)",
          "traceback": [
            "\u001b[0;36m  File \u001b[0;32m\"<tokenize>\"\u001b[0;36m, line \u001b[0;32m7\u001b[0m\n\u001b[0;31m    return total_bode_score, risk_category\u001b[0m\n\u001b[0m    ^\u001b[0m\n\u001b[0;31mIndentationError\u001b[0m\u001b[0;31m:\u001b[0m unindent does not match any outer indentation level\n"
          ]
        }
      ],
      "source": [
        "if total_bode_score <= 2:\n",
        "        risk_category = 'Low'\n",
        "elif 3 <= total_bode_score <= 5:\n",
        "        risk_category = 'Moderate'\n",
        "else:\n",
        "        risk_category = 'High'\n",
        " return total_bode_score, risk_category"
      ]
    },
    {
      "cell_type": "markdown",
      "metadata": {
        "id": "3vrm7xOKZ37s"
      },
      "source": [
        "### Step 4: Load Hospital Data"
      ]
    },
    {
      "cell_type": "code",
      "execution_count": 13,
      "metadata": {
        "id": "DlnGKhBhZ37t"
      },
      "outputs": [],
      "source": [
        "#Main Function to Process Patients and Hospitals\n",
        "def process_patients(patient_csv, hospital_json, patient_output_file, hospital_output_file):\n",
        "    \"\"\"\n",
        "    Main function to process patient data, calculate BODE score and risk, and write the output to CSV files.\n",
        "\n",
        "    Args:\n",
        "        patient_csv (str): Path to the CSV file containing patient data.\n",
        "        hospital_json (str): Path to the JSON file containing hospital data.\n",
        "        patient_output_file (str): Path to the output CSV file for patient data.\n",
        "        hospital_output_file (str): Path to the output CSV file for hospital data.\n",
        "    \"\"\"\n",
        "    # Load hospital data\n",
        "    with open(hospital_json, 'r') as file:\n",
        "        hospitals = json.load(file)\n",
        "\n",
        "    # Initialize lists for results\n",
        "    patient_results = []\n",
        "    hospital_output_list = {hospital['name']: {'count': 0, 'bode_scores': [], 'bode_risks': []}\n",
        "                            for hospital in hospitals}\n",
        "\n",
        "    # Read patient data\n",
        "    with open(patient_csv, 'r') as file:\n",
        "        reader = csv.DictReader(file)\n",
        "\n",
        "        for row in reader:\n",
        "            try:\n",
        "                # Extract patient data\n",
        "                name = row['NAME']\n",
        "                weight_kg = float(row['WEIGHT_KG'])\n",
        "                height_m = float(row['HEIGHT_M'])\n",
        "                fev_pct = float(row['fev_pct'])\n",
        "                dyspnea_description = row['dyspnea_description']\n",
        "                distance_m = float(row['distance_in_meters'])\n",
        "                hospital = row['hospital']\n",
        "\n",
        "                # Calculate BMI\n",
        "                bmi = calculate_bmi(weight_kg, height_m)\n",
        "\n",
        "                # Calculate BODE score and risk\n",
        "                bode_score, bode_risk = calculate_bode_score(bmi, fev_pct, dyspnea_description, distance_m)\n",
        "\n",
        "                # Store patient result\n",
        "                patient_results.append([name, bode_score, bode_risk, hospital])\n",
        "\n",
        "                # Update hospital data\n",
        "                if hospital in hospital_output_list:\n",
        "                    hospital_output_list[hospital]['count'] += 1\n",
        "                    hospital_output_list[hospital]['bode_scores'].append(bode_score)\n",
        "                    hospital_output_list[hospital]['bode_risks'].append(bode_risk)\n",
        "            except ValueError as e:\n",
        "                print(f\"Error processing patient {row['NAME']}: {e}\")\n",
        "\n",
        "\n"
      ]
    },
    {
      "cell_type": "markdown",
      "metadata": {
        "id": "e6lvVUeRZ37u"
      },
      "source": [
        "### Step 5: Main business logic\n",
        "\n",
        "Call BODE Score, BODE Risk functions for each patient.\n",
        "\n",
        "For each hospital, calculate Avg BODE score and Avg BODE risk and count the number of cases for each hospital."
      ]
    },
    {
      "cell_type": "code",
      "execution_count": 18,
      "metadata": {
        "id": "ce7dhjsmZ37v",
        "outputId": "6da5b892-4436-43cd-fee7-4624bcf11afe",
        "colab": {
          "base_uri": "https://localhost:8080/",
          "height": 211
        }
      },
      "outputs": [
        {
          "output_type": "error",
          "ename": "NameError",
          "evalue": "name 'hospital_output_list' is not defined",
          "traceback": [
            "\u001b[0;31m---------------------------------------------------------------------------\u001b[0m",
            "\u001b[0;31mNameError\u001b[0m                                 Traceback (most recent call last)",
            "\u001b[0;32m<ipython-input-18-77ff343b7924>\u001b[0m in \u001b[0;36m<cell line: 9>\u001b[0;34m()\u001b[0m\n\u001b[1;32m      7\u001b[0m \u001b[0;31m###Calculate average BODE score and risk for each hospital\u001b[0m\u001b[0;34m\u001b[0m\u001b[0;34m\u001b[0m\u001b[0m\n\u001b[1;32m      8\u001b[0m \u001b[0;34m\u001b[0m\u001b[0m\n\u001b[0;32m----> 9\u001b[0;31m \u001b[0;32mfor\u001b[0m \u001b[0mhospital\u001b[0m\u001b[0;34m,\u001b[0m \u001b[0mdata\u001b[0m \u001b[0;32min\u001b[0m \u001b[0mhospital_output_list\u001b[0m\u001b[0;34m.\u001b[0m\u001b[0mitems\u001b[0m\u001b[0;34m(\u001b[0m\u001b[0;34m)\u001b[0m\u001b[0;34m:\u001b[0m\u001b[0;34m\u001b[0m\u001b[0;34m\u001b[0m\u001b[0m\n\u001b[0m\u001b[1;32m     10\u001b[0m         \u001b[0;32mif\u001b[0m \u001b[0mdata\u001b[0m\u001b[0;34m[\u001b[0m\u001b[0;34m'count'\u001b[0m\u001b[0;34m]\u001b[0m \u001b[0;34m>\u001b[0m \u001b[0;36m0\u001b[0m\u001b[0;34m:\u001b[0m\u001b[0;34m\u001b[0m\u001b[0;34m\u001b[0m\u001b[0m\n\u001b[1;32m     11\u001b[0m             \u001b[0mavg_score\u001b[0m \u001b[0;34m=\u001b[0m \u001b[0msum\u001b[0m\u001b[0;34m(\u001b[0m\u001b[0mdata\u001b[0m\u001b[0;34m[\u001b[0m\u001b[0;34m'bode_scores'\u001b[0m\u001b[0;34m]\u001b[0m\u001b[0;34m)\u001b[0m \u001b[0;34m/\u001b[0m \u001b[0mdata\u001b[0m\u001b[0;34m[\u001b[0m\u001b[0;34m'count'\u001b[0m\u001b[0;34m]\u001b[0m\u001b[0;34m\u001b[0m\u001b[0;34m\u001b[0m\u001b[0m\n",
            "\u001b[0;31mNameError\u001b[0m: name 'hospital_output_list' is not defined"
          ]
        }
      ],
      "source": [
        "patient_csv = \"patient.csv\"\n",
        "hospital_json = \"hospitals.json\"\n",
        "\n",
        "patient_output_file = \"patient_output.csv\"\n",
        "hospital_output_file = \"hospital_output.csv\"\n",
        "\n",
        "###Calculate average BODE score and risk for each hospital\n",
        "\n",
        " for hospital, data in hospital_output_list.items():\n",
        "        if data['count'] > 0:\n",
        "            avg_score = sum(data['bode_scores']) / data['count']\n",
        "            avg_risk = data['bode_risks'].count('High') / data['count']  # Percentage of high-risk patients\n",
        "        else:\n",
        "            avg_score = 0\n",
        "            avg_risk = 0\n",
        "\n",
        "        hospital_output_list[hospital] = [\n",
        "            hospital, data['count'], avg_risk, avg_score\n",
        "        ]\n",
        "\n",
        "###\n",
        "patient_results = []\n",
        "hospital_output_list = []\n",
        "\n",
        "#Write Patient_output.csv\n",
        "with open(patient_output_file, 'w', newline='') as csvfile:\n",
        "    writer = csv.writer(csvfile)\n",
        "    writer.writerows(patient_results)\n",
        "#Write Hospital_output.csv\n",
        "with open(hospital_output_file, 'w', newline='') as csvfile:\n",
        "    writer = csv.writer(csvfile)\n",
        "    writer.writerows(hospital_output_list)"
      ]
    }
  ],
  "metadata": {
    "language_info": {
      "name": "python"
    },
    "colab": {
      "provenance": []
    },
    "kernelspec": {
      "name": "python3",
      "display_name": "Python 3"
    }
  },
  "nbformat": 4,
  "nbformat_minor": 0
}