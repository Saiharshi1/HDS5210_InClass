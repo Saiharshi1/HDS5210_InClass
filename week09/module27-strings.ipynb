{
  "cells": [
    {
      "cell_type": "markdown",
      "metadata": {
        "id": "i9XiyG7js63D"
      },
      "source": [
        "# Text\n",
        "\n",
        "The objective for this part of the lecture is to explain how Python represents strings and how they can be used.\n",
        "\n",
        "* What is a string\n",
        "* How to manipulate and parse strings\n",
        "* Printing out strings"
      ]
    },
    {
      "cell_type": "code",
      "execution_count": 1,
      "metadata": {
        "id": "q1Uj7VCes63F",
        "outputId": "e9b4c332-258d-4a81-953b-3e47419beca9",
        "colab": {
          "base_uri": "https://localhost:8080/",
          "height": 35
        }
      },
      "outputs": [
        {
          "output_type": "execute_result",
          "data": {
            "text/plain": [
              "'Dr. James'"
            ],
            "application/vnd.google.colaboratory.intrinsic+json": {
              "type": "string"
            }
          },
          "metadata": {},
          "execution_count": 1
        }
      ],
      "source": [
        "\"Dr. James\""
      ]
    },
    {
      "cell_type": "code",
      "execution_count": 2,
      "metadata": {
        "id": "ivGzKGEVs63H",
        "outputId": "b60952c5-889e-49e1-e4ac-cd8ae6671f65",
        "colab": {
          "base_uri": "https://localhost:8080/",
          "height": 35
        }
      },
      "outputs": [
        {
          "output_type": "execute_result",
          "data": {
            "text/plain": [
              "'Dr. James'"
            ],
            "application/vnd.google.colaboratory.intrinsic+json": {
              "type": "string"
            }
          },
          "metadata": {},
          "execution_count": 2
        }
      ],
      "source": [
        "dr='Dr. James'\n",
        "dr"
      ]
    },
    {
      "cell_type": "code",
      "execution_count": 3,
      "metadata": {
        "id": "KXJZhdfGs63H",
        "outputId": "aac40924-3f57-45de-9cc5-714c12483edc",
        "colab": {
          "base_uri": "https://localhost:8080/",
          "height": 141
        }
      },
      "outputs": [
        {
          "output_type": "error",
          "ename": "TypeError",
          "evalue": "can only concatenate str (not \"int\") to str",
          "traceback": [
            "\u001b[0;31m---------------------------------------------------------------------------\u001b[0m",
            "\u001b[0;31mTypeError\u001b[0m                                 Traceback (most recent call last)",
            "\u001b[0;32m<ipython-input-3-0594b14bcb21>\u001b[0m in \u001b[0;36m<cell line: 1>\u001b[0;34m()\u001b[0m\n\u001b[0;32m----> 1\u001b[0;31m \u001b[0;34m'Dr. James'\u001b[0m \u001b[0;34m+\u001b[0m \u001b[0;36m1\u001b[0m\u001b[0;34m\u001b[0m\u001b[0;34m\u001b[0m\u001b[0m\n\u001b[0m",
            "\u001b[0;31mTypeError\u001b[0m: can only concatenate str (not \"int\") to str"
          ]
        }
      ],
      "source": [
        "'Dr. James' + 1"
      ]
    },
    {
      "cell_type": "code",
      "execution_count": 4,
      "metadata": {
        "id": "l-8rQBEIs63I",
        "outputId": "6210a64e-f7ac-4a60-f444-01d263cdf442",
        "colab": {
          "base_uri": "https://localhost:8080/",
          "height": 35
        }
      },
      "outputs": [
        {
          "output_type": "execute_result",
          "data": {
            "text/plain": [
              "'Dr. James1'"
            ],
            "application/vnd.google.colaboratory.intrinsic+json": {
              "type": "string"
            }
          },
          "metadata": {},
          "execution_count": 4
        }
      ],
      "source": [
        "'Dr. James' + str(1)"
      ]
    },
    {
      "cell_type": "code",
      "execution_count": 5,
      "metadata": {
        "id": "kFPI3HnHs63I",
        "outputId": "749b5c51-a3b7-4913-ae89-0dcc4e7401bc",
        "colab": {
          "base_uri": "https://localhost:8080/",
          "height": 35
        }
      },
      "outputs": [
        {
          "output_type": "execute_result",
          "data": {
            "text/plain": [
              "'Dr. James and spouse'"
            ],
            "application/vnd.google.colaboratory.intrinsic+json": {
              "type": "string"
            }
          },
          "metadata": {},
          "execution_count": 5
        }
      ],
      "source": [
        "'Dr. James' + ' and spouse'"
      ]
    },
    {
      "cell_type": "code",
      "execution_count": 6,
      "metadata": {
        "id": "tN0-pfbis63I",
        "outputId": "2e19dc75-9562-4953-f86f-f73aa964348b",
        "colab": {
          "base_uri": "https://localhost:8080/",
          "height": 35
        }
      },
      "outputs": [
        {
          "output_type": "execute_result",
          "data": {
            "text/plain": [
              "\"Dr. James's spouse\""
            ],
            "application/vnd.google.colaboratory.intrinsic+json": {
              "type": "string"
            }
          },
          "metadata": {},
          "execution_count": 6
        }
      ],
      "source": [
        "'Dr. James\\'s spouse'"
      ]
    },
    {
      "cell_type": "code",
      "execution_count": 7,
      "metadata": {
        "id": "x13Q5fxes63J",
        "outputId": "8ead8807-748c-468a-cafc-e2159ad323fa",
        "colab": {
          "base_uri": "https://localhost:8080/",
          "height": 35
        }
      },
      "outputs": [
        {
          "output_type": "execute_result",
          "data": {
            "text/plain": [
              "\"Dr. James's spouse\""
            ],
            "application/vnd.google.colaboratory.intrinsic+json": {
              "type": "string"
            }
          },
          "metadata": {},
          "execution_count": 7
        }
      ],
      "source": [
        "\"Dr. James's spouse\""
      ]
    },
    {
      "cell_type": "code",
      "execution_count": 8,
      "metadata": {
        "id": "ywlMWpVws63J",
        "outputId": "86924613-c64d-4c30-eb35-58abae41fcc5",
        "colab": {
          "base_uri": "https://localhost:8080/"
        }
      },
      "outputs": [
        {
          "output_type": "execute_result",
          "data": {
            "text/plain": [
              "9"
            ]
          },
          "metadata": {},
          "execution_count": 8
        }
      ],
      "source": [
        "len('Dr. James')"
      ]
    },
    {
      "cell_type": "code",
      "execution_count": 9,
      "metadata": {
        "id": "iWcynR3Rs63J",
        "outputId": "76975152-c8bf-4bf5-d10c-2696687fb53c",
        "colab": {
          "base_uri": "https://localhost:8080/"
        }
      },
      "outputs": [
        {
          "output_type": "execute_result",
          "data": {
            "text/plain": [
              "18"
            ]
          },
          "metadata": {},
          "execution_count": 9
        }
      ],
      "source": [
        "len('Dr. James\\'s Spouse')"
      ]
    },
    {
      "cell_type": "code",
      "execution_count": 10,
      "metadata": {
        "id": "B0URkqYZs63J",
        "outputId": "63b196f0-fdf1-4f19-8170-1a7f00bc88b0",
        "colab": {
          "base_uri": "https://localhost:8080/"
        }
      },
      "outputs": [
        {
          "output_type": "execute_result",
          "data": {
            "text/plain": [
              "18"
            ]
          },
          "metadata": {},
          "execution_count": 10
        }
      ],
      "source": [
        "len(\"Dr. James's Spouse\")"
      ]
    },
    {
      "cell_type": "code",
      "execution_count": 11,
      "metadata": {
        "id": "eAghlqA9s63K"
      },
      "outputs": [],
      "source": [
        "dr = 'Dr. James\\'s \"Spouse\"'"
      ]
    },
    {
      "cell_type": "code",
      "execution_count": 12,
      "metadata": {
        "id": "luZaLXmMs63K",
        "outputId": "6c661bfd-2df1-472d-dd14-4338ae30633e",
        "colab": {
          "base_uri": "https://localhost:8080/",
          "height": 35
        }
      },
      "outputs": [
        {
          "output_type": "execute_result",
          "data": {
            "text/plain": [
              "'Dr. James\\'s \"Spouse\"'"
            ],
            "application/vnd.google.colaboratory.intrinsic+json": {
              "type": "string"
            }
          },
          "metadata": {},
          "execution_count": 12
        }
      ],
      "source": [
        "dr"
      ]
    },
    {
      "cell_type": "code",
      "execution_count": 13,
      "metadata": {
        "id": "3WpJpZSes63K",
        "outputId": "4f04a989-d16c-434e-bbde-53bdccf77ab6",
        "colab": {
          "base_uri": "https://localhost:8080/",
          "height": 35
        }
      },
      "outputs": [
        {
          "output_type": "execute_result",
          "data": {
            "text/plain": [
              "'Dr. James\\'s \"Spouse\"'"
            ],
            "application/vnd.google.colaboratory.intrinsic+json": {
              "type": "string"
            }
          },
          "metadata": {},
          "execution_count": 13
        }
      ],
      "source": [
        "\"Dr. James's \\\"Spouse\\\"\""
      ]
    },
    {
      "cell_type": "code",
      "execution_count": 14,
      "metadata": {
        "id": "C1a5D2r8s63K",
        "outputId": "4247375c-aed6-49be-d01b-79d2010c3cbd",
        "colab": {
          "base_uri": "https://localhost:8080/"
        }
      },
      "outputs": [
        {
          "output_type": "stream",
          "name": "stdout",
          "text": [
            "Dr. James's \"Spouse\"\n"
          ]
        }
      ],
      "source": [
        "print(dr)"
      ]
    },
    {
      "cell_type": "code",
      "execution_count": 15,
      "metadata": {
        "id": "UHK6-ABYs63K",
        "outputId": "ac3fd47a-5308-44a9-b30f-cbfd87444ebb",
        "colab": {
          "base_uri": "https://localhost:8080/"
        }
      },
      "outputs": [
        {
          "output_type": "execute_result",
          "data": {
            "text/plain": [
              "20"
            ]
          },
          "metadata": {},
          "execution_count": 15
        }
      ],
      "source": [
        "len(dr)"
      ]
    },
    {
      "cell_type": "code",
      "execution_count": 16,
      "metadata": {
        "id": "YpzB2IHNs63L",
        "outputId": "51cb5cf7-9ab3-4b7d-c28b-012a565fdd19",
        "colab": {
          "base_uri": "https://localhost:8080/",
          "height": 35
        }
      },
      "outputs": [
        {
          "output_type": "execute_result",
          "data": {
            "text/plain": [
              "'A'"
            ],
            "application/vnd.google.colaboratory.intrinsic+json": {
              "type": "string"
            }
          },
          "metadata": {},
          "execution_count": 16
        }
      ],
      "source": [
        "seq = 'AGCCGAC'\n",
        "seq[5]"
      ]
    },
    {
      "cell_type": "code",
      "execution_count": 17,
      "metadata": {
        "id": "x8smuTDbs63L",
        "outputId": "4e9a14e7-6155-4219-fba8-fc93aa0188a1",
        "colab": {
          "base_uri": "https://localhost:8080/",
          "height": 35
        }
      },
      "outputs": [
        {
          "output_type": "execute_result",
          "data": {
            "text/plain": [
              "'AC'"
            ],
            "application/vnd.google.colaboratory.intrinsic+json": {
              "type": "string"
            }
          },
          "metadata": {},
          "execution_count": 17
        }
      ],
      "source": [
        "# [start_position:up_until_but_not_including]\n",
        "# First character is in position 0\n",
        "seq[5:8]"
      ]
    },
    {
      "cell_type": "code",
      "execution_count": 18,
      "metadata": {
        "id": "JN3kPQh7s63L",
        "outputId": "b0ca2bed-f4d6-4f00-c73b-60c983b849f4",
        "colab": {
          "base_uri": "https://localhost:8080/",
          "height": 35
        }
      },
      "outputs": [
        {
          "output_type": "execute_result",
          "data": {
            "text/plain": [
              "'AGCCG'"
            ],
            "application/vnd.google.colaboratory.intrinsic+json": {
              "type": "string"
            }
          },
          "metadata": {},
          "execution_count": 18
        }
      ],
      "source": [
        "start_position=0\n",
        "number_of_characters=5\n",
        "seq[start_position:start_position+number_of_characters]"
      ]
    },
    {
      "cell_type": "code",
      "execution_count": 19,
      "metadata": {
        "id": "itB5g3cQs63L"
      },
      "outputs": [],
      "source": [
        "txt = '''This\n",
        "string\n",
        "is\n",
        "on\n",
        "multiple\n",
        "lines'''"
      ]
    },
    {
      "cell_type": "code",
      "execution_count": 20,
      "metadata": {
        "id": "Gf_RWDoCs63L",
        "outputId": "fcd589d6-84ca-4603-8010-58ce58dee82b",
        "colab": {
          "base_uri": "https://localhost:8080/",
          "height": 35
        }
      },
      "outputs": [
        {
          "output_type": "execute_result",
          "data": {
            "text/plain": [
              "'This\\nstring\\nis\\non\\nmultiple\\nlines'"
            ],
            "application/vnd.google.colaboratory.intrinsic+json": {
              "type": "string"
            }
          },
          "metadata": {},
          "execution_count": 20
        }
      ],
      "source": [
        "txt"
      ]
    },
    {
      "cell_type": "code",
      "execution_count": 21,
      "metadata": {
        "id": "A206ikfEs63M",
        "outputId": "3f9828dd-c789-4755-95b6-841f40679a52",
        "colab": {
          "base_uri": "https://localhost:8080/"
        }
      },
      "outputs": [
        {
          "output_type": "stream",
          "name": "stdout",
          "text": [
            "This\n",
            "string\n",
            "is\n",
            "on\n",
            "multiple\n",
            "lines\n"
          ]
        }
      ],
      "source": [
        "print(txt)"
      ]
    },
    {
      "cell_type": "code",
      "execution_count": 22,
      "metadata": {
        "id": "gMjw1Yj6s63M",
        "outputId": "83277c5a-0154-4d39-eb83-2b36a2df32bc",
        "colab": {
          "base_uri": "https://localhost:8080/"
        }
      },
      "outputs": [
        {
          "output_type": "execute_result",
          "data": {
            "text/plain": [
              "32"
            ]
          },
          "metadata": {},
          "execution_count": 22
        }
      ],
      "source": [
        "len(txt)"
      ]
    },
    {
      "cell_type": "code",
      "execution_count": 23,
      "metadata": {
        "id": "vcU6eeRSs63M"
      },
      "outputs": [],
      "source": [
        "txt2 = 'This\\nstring\\nis\\non\\nmultiple\\nlines'"
      ]
    },
    {
      "cell_type": "code",
      "execution_count": 24,
      "metadata": {
        "id": "Gpxx-slas63M",
        "outputId": "f6c79055-4c5b-4fcb-f1f2-bbf2ddb4a5b9",
        "colab": {
          "base_uri": "https://localhost:8080/"
        }
      },
      "outputs": [
        {
          "output_type": "stream",
          "name": "stdout",
          "text": [
            "This\n",
            "string\n",
            "is\n",
            "on\n",
            "multiple\n",
            "lines\n"
          ]
        }
      ],
      "source": [
        "print(txt2)"
      ]
    },
    {
      "cell_type": "code",
      "execution_count": 25,
      "metadata": {
        "id": "sQHIBrs3s63M",
        "outputId": "be9ffb40-444f-47bb-e166-12bc6febaaba",
        "colab": {
          "base_uri": "https://localhost:8080/"
        }
      },
      "outputs": [
        {
          "output_type": "stream",
          "name": "stdout",
          "text": [
            "a1\ta2\n",
            "b10\tb2\n"
          ]
        }
      ],
      "source": [
        "tbl = \"a1\\ta2\\nb10\\tb2\"\n",
        "print(tbl)"
      ]
    },
    {
      "cell_type": "markdown",
      "metadata": {
        "id": "n2_oVV_fs63M"
      },
      "source": [
        "# Parts of strings"
      ]
    },
    {
      "cell_type": "code",
      "execution_count": 26,
      "metadata": {
        "id": "6CIeRVdcs63N"
      },
      "outputs": [],
      "source": [
        "name = \"Paul E. Boal\""
      ]
    },
    {
      "cell_type": "markdown",
      "metadata": {
        "id": "koUSeV0qs63N"
      },
      "source": [
        "`[]` is used to \"slice\" a string\n",
        "\n",
        "```\n",
        "a[start:end] # items start through end-1\n",
        "a[start:]    # items start through the rest of the array\n",
        "a[:end]      # items from the beginning through end-1\n",
        "a[:]         # a copy of the whole array\n",
        "```\n",
        "\n",
        "If `start` or `end` is a negative number, then it means that many characters from the end of the string."
      ]
    },
    {
      "cell_type": "code",
      "execution_count": 27,
      "metadata": {
        "id": "qvd1dJKos63N",
        "outputId": "8d503f10-da4e-4215-e1b5-b7b210fe5811",
        "colab": {
          "base_uri": "https://localhost:8080/"
        }
      },
      "outputs": [
        {
          "output_type": "execute_result",
          "data": {
            "text/plain": [
              "12"
            ]
          },
          "metadata": {},
          "execution_count": 27
        }
      ],
      "source": [
        "len(name)"
      ]
    },
    {
      "cell_type": "code",
      "execution_count": 28,
      "metadata": {
        "id": "UeMmkmCvs63N",
        "outputId": "318e70a6-3a79-4663-e86a-e0711a38c50b",
        "colab": {
          "base_uri": "https://localhost:8080/",
          "height": 35
        }
      },
      "outputs": [
        {
          "output_type": "execute_result",
          "data": {
            "text/plain": [
              "'P'"
            ],
            "application/vnd.google.colaboratory.intrinsic+json": {
              "type": "string"
            }
          },
          "metadata": {},
          "execution_count": 28
        }
      ],
      "source": [
        "name[0]"
      ]
    },
    {
      "cell_type": "code",
      "execution_count": 29,
      "metadata": {
        "id": "iSnkEikFs63N",
        "outputId": "88e547e4-2641-4665-a612-35f73dc3c4fc",
        "colab": {
          "base_uri": "https://localhost:8080/",
          "height": 35
        }
      },
      "outputs": [
        {
          "output_type": "execute_result",
          "data": {
            "text/plain": [
              "'Paul'"
            ],
            "application/vnd.google.colaboratory.intrinsic+json": {
              "type": "string"
            }
          },
          "metadata": {},
          "execution_count": 29
        }
      ],
      "source": [
        "name[0:4]"
      ]
    },
    {
      "cell_type": "code",
      "execution_count": 30,
      "metadata": {
        "id": "uwZUClR4s63O",
        "outputId": "14f509d0-a506-498c-be4d-7a06514028b7",
        "colab": {
          "base_uri": "https://localhost:8080/",
          "height": 35
        }
      },
      "outputs": [
        {
          "output_type": "execute_result",
          "data": {
            "text/plain": [
              "'Boal'"
            ],
            "application/vnd.google.colaboratory.intrinsic+json": {
              "type": "string"
            }
          },
          "metadata": {},
          "execution_count": 30
        }
      ],
      "source": [
        "name[-4:]"
      ]
    },
    {
      "cell_type": "code",
      "execution_count": 31,
      "metadata": {
        "id": "N7zvaQfJs63O",
        "outputId": "ed51976b-dba3-465d-9db1-80330677ea88",
        "colab": {
          "base_uri": "https://localhost:8080/",
          "height": 35
        }
      },
      "outputs": [
        {
          "output_type": "execute_result",
          "data": {
            "text/plain": [
              "'E. Boal'"
            ],
            "application/vnd.google.colaboratory.intrinsic+json": {
              "type": "string"
            }
          },
          "metadata": {},
          "execution_count": 31
        }
      ],
      "source": [
        "name[5:]"
      ]
    },
    {
      "cell_type": "code",
      "execution_count": 32,
      "metadata": {
        "id": "zLJUL_wms63O",
        "outputId": "4e577566-58ce-49bb-ea82-a473535d42c4",
        "colab": {
          "base_uri": "https://localhost:8080/"
        }
      },
      "outputs": [
        {
          "output_type": "stream",
          "name": "stdout",
          "text": [
            "Paul E. Boal\n"
          ]
        }
      ],
      "source": [
        "print(name)"
      ]
    },
    {
      "cell_type": "code",
      "execution_count": 33,
      "metadata": {
        "id": "nkK1mai1s63P",
        "outputId": "ac9ab9ed-08fc-42e5-8d57-612002b90c13",
        "colab": {
          "base_uri": "https://localhost:8080/"
        }
      },
      "outputs": [
        {
          "output_type": "execute_result",
          "data": {
            "text/plain": [
              "4"
            ]
          },
          "metadata": {},
          "execution_count": 33
        }
      ],
      "source": [
        "name.find(' ')"
      ]
    },
    {
      "cell_type": "code",
      "execution_count": 34,
      "metadata": {
        "id": "ZpOZtWKps63P",
        "outputId": "6f0a5dc2-def7-4462-dd7b-075866eac748",
        "colab": {
          "base_uri": "https://localhost:8080/",
          "height": 35
        }
      },
      "outputs": [
        {
          "output_type": "execute_result",
          "data": {
            "text/plain": [
              "'Paul'"
            ],
            "application/vnd.google.colaboratory.intrinsic+json": {
              "type": "string"
            }
          },
          "metadata": {},
          "execution_count": 34
        }
      ],
      "source": [
        "name[:name.find(' ')]"
      ]
    },
    {
      "cell_type": "code",
      "execution_count": 35,
      "metadata": {
        "id": "RshhRiADs63P",
        "outputId": "a31ef6d8-782a-46c9-d4aa-8e4f80a26d71",
        "colab": {
          "base_uri": "https://localhost:8080/",
          "height": 35
        }
      },
      "outputs": [
        {
          "output_type": "execute_result",
          "data": {
            "text/plain": [
              "'E. Boal'"
            ],
            "application/vnd.google.colaboratory.intrinsic+json": {
              "type": "string"
            }
          },
          "metadata": {},
          "execution_count": 35
        }
      ],
      "source": [
        "name[name.find(' ')+1:]"
      ]
    },
    {
      "cell_type": "code",
      "execution_count": 36,
      "metadata": {
        "id": "Muet1qDjs63P",
        "outputId": "d1b7bba9-624d-47a4-acdb-c69b59a35912",
        "colab": {
          "base_uri": "https://localhost:8080/",
          "height": 35
        }
      },
      "outputs": [
        {
          "output_type": "execute_result",
          "data": {
            "text/plain": [
              "'E. Boal'"
            ],
            "application/vnd.google.colaboratory.intrinsic+json": {
              "type": "string"
            }
          },
          "metadata": {},
          "execution_count": 36
        }
      ],
      "source": [
        "pos_of_middle_name = name.find(' ') + 1\n",
        "middle_and_last = name[pos_of_middle_name:]\n",
        "middle_and_last"
      ]
    },
    {
      "cell_type": "code",
      "execution_count": 37,
      "metadata": {
        "id": "1MJaRRcMs63V",
        "outputId": "bb011783-208b-4cb4-988b-8a2e08fd39f0",
        "colab": {
          "base_uri": "https://localhost:8080/",
          "height": 35
        }
      },
      "outputs": [
        {
          "output_type": "execute_result",
          "data": {
            "text/plain": [
              "'Boal'"
            ],
            "application/vnd.google.colaboratory.intrinsic+json": {
              "type": "string"
            }
          },
          "metadata": {},
          "execution_count": 37
        }
      ],
      "source": [
        "# Position of the middle name is up to the first space\n",
        "pos_of_middle_name = name.find(' ') + 1\n",
        "\n",
        "middle_and_last = name[pos_of_middle_name:]\n",
        "\n",
        "# Position of the last name is the position of the first space after the end of the first name\n",
        "pos_of_last = middle_and_last.find(' ') + 1\n",
        "\n",
        "middle_and_last[pos_of_last:]"
      ]
    },
    {
      "cell_type": "code",
      "execution_count": 38,
      "metadata": {
        "id": "WEvA42hys63V",
        "outputId": "129e92db-8dec-4d87-dea1-6e377a3e886d",
        "colab": {
          "base_uri": "https://localhost:8080/",
          "height": 35
        }
      },
      "outputs": [
        {
          "output_type": "execute_result",
          "data": {
            "text/plain": [
              "'Paul E. Boal'"
            ],
            "application/vnd.google.colaboratory.intrinsic+json": {
              "type": "string"
            }
          },
          "metadata": {},
          "execution_count": 38
        }
      ],
      "source": [
        "name"
      ]
    },
    {
      "cell_type": "code",
      "execution_count": 39,
      "metadata": {
        "id": "bGwbzr3Js63V",
        "outputId": "a249949c-9cf3-47cf-b5e1-ab952fda1380",
        "colab": {
          "base_uri": "https://localhost:8080/"
        }
      },
      "outputs": [
        {
          "output_type": "execute_result",
          "data": {
            "text/plain": [
              "['Paul', 'E.', 'Boal']"
            ]
          },
          "metadata": {},
          "execution_count": 39
        }
      ],
      "source": [
        "name.split(' ')"
      ]
    },
    {
      "cell_type": "markdown",
      "metadata": {
        "id": "yrCr5s1Ds63W"
      },
      "source": [
        "# Converting text to numbers"
      ]
    },
    {
      "cell_type": "code",
      "execution_count": 40,
      "metadata": {
        "id": "mpudH497s63W",
        "outputId": "3cd851a7-248c-4e4a-f0b2-93ffa0e50875",
        "colab": {
          "base_uri": "https://localhost:8080/"
        }
      },
      "outputs": [
        {
          "output_type": "execute_result",
          "data": {
            "text/plain": [
              "45"
            ]
          },
          "metadata": {},
          "execution_count": 40
        }
      ],
      "source": [
        "int('45')"
      ]
    },
    {
      "cell_type": "code",
      "execution_count": 41,
      "metadata": {
        "id": "-tutMWGbs63W",
        "outputId": "6354b1a4-9ff0-495e-cf8f-6d7bbc8ff233",
        "colab": {
          "base_uri": "https://localhost:8080/"
        }
      },
      "outputs": [
        {
          "output_type": "execute_result",
          "data": {
            "text/plain": [
              "45.12"
            ]
          },
          "metadata": {},
          "execution_count": 41
        }
      ],
      "source": [
        "float('45.12')"
      ]
    },
    {
      "cell_type": "code",
      "execution_count": 42,
      "metadata": {
        "id": "YMRr9oJBs63W",
        "outputId": "ce804078-d200-42c7-b7e3-581a4e2be91d",
        "colab": {
          "base_uri": "https://localhost:8080/",
          "height": 141
        }
      },
      "outputs": [
        {
          "output_type": "error",
          "ename": "ValueError",
          "evalue": "invalid literal for int() with base 10: '45.12'",
          "traceback": [
            "\u001b[0;31m---------------------------------------------------------------------------\u001b[0m",
            "\u001b[0;31mValueError\u001b[0m                                Traceback (most recent call last)",
            "\u001b[0;32m<ipython-input-42-283aa0b385f9>\u001b[0m in \u001b[0;36m<cell line: 1>\u001b[0;34m()\u001b[0m\n\u001b[0;32m----> 1\u001b[0;31m \u001b[0mint\u001b[0m\u001b[0;34m(\u001b[0m\u001b[0;34m'45.12'\u001b[0m\u001b[0;34m)\u001b[0m\u001b[0;34m\u001b[0m\u001b[0;34m\u001b[0m\u001b[0m\n\u001b[0m",
            "\u001b[0;31mValueError\u001b[0m: invalid literal for int() with base 10: '45.12'"
          ]
        }
      ],
      "source": [
        "int('45.12')"
      ]
    },
    {
      "cell_type": "code",
      "execution_count": 43,
      "metadata": {
        "id": "ETwliBzus63W",
        "outputId": "4f187d39-2485-4a84-dad4-c2fc7fe76985",
        "colab": {
          "base_uri": "https://localhost:8080/"
        }
      },
      "outputs": [
        {
          "output_type": "execute_result",
          "data": {
            "text/plain": [
              "str"
            ]
          },
          "metadata": {},
          "execution_count": 43
        }
      ],
      "source": [
        "score='45.12'\n",
        "type(score)"
      ]
    },
    {
      "cell_type": "code",
      "execution_count": 44,
      "metadata": {
        "id": "yRFsODUus63W",
        "outputId": "776ee985-2026-4e65-d151-0137e86e1b3e",
        "colab": {
          "base_uri": "https://localhost:8080/"
        }
      },
      "outputs": [
        {
          "output_type": "execute_result",
          "data": {
            "text/plain": [
              "45"
            ]
          },
          "metadata": {},
          "execution_count": 44
        }
      ],
      "source": [
        "int(score[:score.find('.')])"
      ]
    },
    {
      "cell_type": "code",
      "execution_count": 45,
      "metadata": {
        "id": "LZ4xKlIks63W",
        "outputId": "6aeea55b-4bbf-4528-cdca-8fd2ae79a7a7",
        "colab": {
          "base_uri": "https://localhost:8080/",
          "height": 141
        }
      },
      "outputs": [
        {
          "output_type": "error",
          "ename": "ValueError",
          "evalue": "invalid literal for int() with base 10: '1b'",
          "traceback": [
            "\u001b[0;31m---------------------------------------------------------------------------\u001b[0m",
            "\u001b[0;31mValueError\u001b[0m                                Traceback (most recent call last)",
            "\u001b[0;32m<ipython-input-45-6545fce1a5cc>\u001b[0m in \u001b[0;36m<cell line: 1>\u001b[0;34m()\u001b[0m\n\u001b[0;32m----> 1\u001b[0;31m \u001b[0mint\u001b[0m\u001b[0;34m(\u001b[0m\u001b[0;34m'1b'\u001b[0m\u001b[0;34m)\u001b[0m\u001b[0;34m\u001b[0m\u001b[0;34m\u001b[0m\u001b[0m\n\u001b[0m",
            "\u001b[0;31mValueError\u001b[0m: invalid literal for int() with base 10: '1b'"
          ]
        }
      ],
      "source": [
        "int('1b')"
      ]
    },
    {
      "cell_type": "code",
      "execution_count": 46,
      "metadata": {
        "id": "ztlkNa7_s63X",
        "outputId": "4e4e60d5-bc94-4f89-ad1c-4bacb9a7139a",
        "colab": {
          "base_uri": "https://localhost:8080/"
        }
      },
      "outputs": [
        {
          "output_type": "execute_result",
          "data": {
            "text/plain": [
              "10"
            ]
          },
          "metadata": {},
          "execution_count": 46
        }
      ],
      "source": [
        "int('a',base=16)"
      ]
    },
    {
      "cell_type": "code",
      "execution_count": 69,
      "metadata": {
        "id": "QHuzHdnds63X"
      },
      "outputs": [],
      "source": [
        "result = eval('10.3 + 4')"
      ]
    },
    {
      "cell_type": "code",
      "execution_count": 48,
      "metadata": {
        "id": "8r0ur_hYs63X",
        "outputId": "e78da781-7d9f-4bf4-9006-b2f90fe43978",
        "colab": {
          "base_uri": "https://localhost:8080/"
        }
      },
      "outputs": [
        {
          "output_type": "execute_result",
          "data": {
            "text/plain": [
              "14.5"
            ]
          },
          "metadata": {},
          "execution_count": 48
        }
      ],
      "source": [
        "a=\"14.5\"\n",
        "float(a)"
      ]
    },
    {
      "cell_type": "code",
      "execution_count": null,
      "metadata": {
        "id": "NmEkafQCs63X"
      },
      "outputs": [],
      "source": []
    },
    {
      "cell_type": "markdown",
      "metadata": {
        "id": "fM5_Lt1Ds63X"
      },
      "source": [
        "## Printing text"
      ]
    },
    {
      "cell_type": "code",
      "execution_count": 68,
      "metadata": {
        "id": "rpGPHqZPs63X",
        "outputId": "184f4f98-54a6-4c8c-b07a-885653d13a5f",
        "colab": {
          "base_uri": "https://localhost:8080/"
        }
      },
      "outputs": [
        {
          "output_type": "stream",
          "name": "stdout",
          "text": [
            "Put a formatted number here: 14.50\n"
          ]
        }
      ],
      "source": [
        "# \"new\" style formatting\n",
        "a = \"14.5\"\n",
        "a=float(a)\n",
        "print('Put a formatted number here: {:.2f}'.format(a))"
      ]
    },
    {
      "cell_type": "code",
      "execution_count": 50,
      "metadata": {
        "id": "jMo7fYa6s63Y"
      },
      "outputs": [],
      "source": [
        "# \"new\" style formatting\n",
        "def print_numbers(a,b):\n",
        "    return 'Here is {:d} and here is {:d}'.format(a,b)"
      ]
    },
    {
      "cell_type": "code",
      "execution_count": 51,
      "metadata": {
        "id": "iUDX5zyLs63Y",
        "outputId": "48c7d0d7-5a53-4fc3-a650-cec7e28a56da",
        "colab": {
          "base_uri": "https://localhost:8080/"
        }
      },
      "outputs": [
        {
          "output_type": "stream",
          "name": "stdout",
          "text": [
            "Here is 1 and here is 2\n"
          ]
        }
      ],
      "source": [
        "print(print_numbers(1,2))"
      ]
    },
    {
      "cell_type": "markdown",
      "metadata": {
        "id": "DHfaHL2ss63Y"
      },
      "source": [
        "See https://docs.python.org/3/library/stdtypes.html#printf-style-string-formatting for a good reference on formatting."
      ]
    },
    {
      "cell_type": "code",
      "execution_count": 52,
      "metadata": {
        "id": "fxbH2ahMs63Y",
        "outputId": "e7bf7ac3-1d46-4646-a675-c125a4ed4076",
        "colab": {
          "base_uri": "https://localhost:8080/"
        }
      },
      "outputs": [
        {
          "output_type": "stream",
          "name": "stdout",
          "text": [
            "Dr. James Jane Doe Right Ulnar Fracture\n"
          ]
        }
      ],
      "source": [
        "physician = 'Dr. James'\n",
        "patient = 'Jane Doe'\n",
        "diagnosis = 'Right Ulnar Fracture'\n",
        "print(physician, patient, diagnosis, sep=' ')"
      ]
    },
    {
      "cell_type": "markdown",
      "metadata": {
        "id": "TqiazJhTs63Z"
      },
      "source": [
        "## Splitting Strings"
      ]
    },
    {
      "cell_type": "code",
      "execution_count": 53,
      "metadata": {
        "id": "tdUKR3_ts63Z"
      },
      "outputs": [],
      "source": [
        "names=\"Paul,Sarahlynn,Ellie,Ada,Teddy\""
      ]
    },
    {
      "cell_type": "code",
      "execution_count": 54,
      "metadata": {
        "id": "nhPkaJdls63Z",
        "outputId": "237befc6-e546-4425-e6e9-336cc8fe7a28",
        "colab": {
          "base_uri": "https://localhost:8080/"
        }
      },
      "outputs": [
        {
          "output_type": "execute_result",
          "data": {
            "text/plain": [
              "['Paul', 'Sarahlynn', 'Ellie', 'Ada', 'Teddy']"
            ]
          },
          "metadata": {},
          "execution_count": 54
        }
      ],
      "source": [
        "names.split(',')"
      ]
    },
    {
      "cell_type": "code",
      "execution_count": 55,
      "metadata": {
        "id": "7XxhhONCs63Z"
      },
      "outputs": [],
      "source": [
        "names=\"Paul, Sarahlynn, Ellie, Ada, Teddy\""
      ]
    },
    {
      "cell_type": "code",
      "execution_count": 56,
      "metadata": {
        "id": "B8nqDM5Us63Z",
        "outputId": "3a811dc2-0b59-42fd-ad64-97bc056d6c77",
        "colab": {
          "base_uri": "https://localhost:8080/"
        }
      },
      "outputs": [
        {
          "output_type": "execute_result",
          "data": {
            "text/plain": [
              "['Paul', ' Sarahlynn', ' Ellie', ' Ada', ' Teddy']"
            ]
          },
          "metadata": {},
          "execution_count": 56
        }
      ],
      "source": [
        "\n",
        "names.split(',')"
      ]
    },
    {
      "cell_type": "code",
      "execution_count": 57,
      "metadata": {
        "id": "r6qeXQXls63Z",
        "outputId": "245e57a5-f265-4411-8711-75e57196c5fc",
        "colab": {
          "base_uri": "https://localhost:8080/"
        }
      },
      "outputs": [
        {
          "output_type": "execute_result",
          "data": {
            "text/plain": [
              "['Paul', 'Sarahlynn', 'Ellie', 'Ada', 'Teddy']"
            ]
          },
          "metadata": {},
          "execution_count": 57
        }
      ],
      "source": [
        "names.split(', ')"
      ]
    },
    {
      "cell_type": "markdown",
      "metadata": {
        "id": "U7Vj-MLls63a"
      },
      "source": [
        "## Find the Nth Occurrence of a String"
      ]
    },
    {
      "cell_type": "code",
      "execution_count": 58,
      "metadata": {
        "id": "pvjQCiACs63a"
      },
      "outputs": [],
      "source": [
        "our_string = \"love is love is love is love\""
      ]
    },
    {
      "cell_type": "code",
      "execution_count": 59,
      "metadata": {
        "id": "wJqnYqOns63a",
        "outputId": "e430eb86-2e26-4efe-dc56-66380b4e8aa0",
        "colab": {
          "base_uri": "https://localhost:8080/"
        }
      },
      "outputs": [
        {
          "output_type": "execute_result",
          "data": {
            "text/plain": [
              "0"
            ]
          },
          "metadata": {},
          "execution_count": 59
        }
      ],
      "source": [
        "first_love = our_string.find(\"love\")\n",
        "first_love"
      ]
    },
    {
      "cell_type": "code",
      "execution_count": 60,
      "metadata": {
        "id": "aPqAFqTAs63a",
        "outputId": "821ea290-7403-4d2b-fbd0-a0579ea1e72f",
        "colab": {
          "base_uri": "https://localhost:8080/"
        }
      },
      "outputs": [
        {
          "output_type": "execute_result",
          "data": {
            "text/plain": [
              "8"
            ]
          },
          "metadata": {},
          "execution_count": 60
        }
      ],
      "source": [
        "second_love = our_string.find(\"love\", first_love+1)\n",
        "second_love"
      ]
    },
    {
      "cell_type": "code",
      "execution_count": 61,
      "metadata": {
        "id": "sbQRZ449s63b",
        "outputId": "d283f27b-5af3-4542-8889-643fd13dc56d",
        "colab": {
          "base_uri": "https://localhost:8080/"
        }
      },
      "outputs": [
        {
          "output_type": "execute_result",
          "data": {
            "text/plain": [
              "16"
            ]
          },
          "metadata": {},
          "execution_count": 61
        }
      ],
      "source": [
        "third_love = our_string.find(\"love\", second_love+1)\n",
        "third_love"
      ]
    },
    {
      "cell_type": "code",
      "execution_count": null,
      "metadata": {
        "id": "K6Bbxhkys63b"
      },
      "outputs": [],
      "source": []
    },
    {
      "cell_type": "code",
      "execution_count": 62,
      "metadata": {
        "id": "k75hc0oNs63b"
      },
      "outputs": [],
      "source": [
        "def find_nth(str_to_search, for_str, nth):\n",
        "\n",
        "    start = 0\n",
        "    for i in range(1, nth+1):\n",
        "        pos = str_to_search.find(for_str, start)\n",
        "        if pos == -1:\n",
        "            return -1\n",
        "        else:\n",
        "            start = pos+1\n",
        "\n",
        "    return pos"
      ]
    },
    {
      "cell_type": "code",
      "execution_count": 63,
      "metadata": {
        "id": "v9ZjrS3bs63b",
        "outputId": "9853f6cb-990c-4e5b-8a93-b057481ca0c4",
        "colab": {
          "base_uri": "https://localhost:8080/"
        }
      },
      "outputs": [
        {
          "output_type": "execute_result",
          "data": {
            "text/plain": [
              "24"
            ]
          },
          "metadata": {},
          "execution_count": 63
        }
      ],
      "source": [
        "find_nth(our_string, \"love\", 4)"
      ]
    },
    {
      "cell_type": "code",
      "execution_count": 64,
      "metadata": {
        "id": "i5pYhXS7s63c",
        "outputId": "8fc9c5d9-af26-4c4b-953e-a1a90abd56a4",
        "colab": {
          "base_uri": "https://localhost:8080/"
        }
      },
      "outputs": [
        {
          "output_type": "execute_result",
          "data": {
            "text/plain": [
              "5"
            ]
          },
          "metadata": {},
          "execution_count": 64
        }
      ],
      "source": [
        "find_nth(our_string, \"is\", 1)"
      ]
    },
    {
      "cell_type": "code",
      "execution_count": 65,
      "metadata": {
        "id": "mharwZxKs63c",
        "outputId": "c74b060b-b7dd-4e17-968b-de41b4d257da",
        "colab": {
          "base_uri": "https://localhost:8080/"
        }
      },
      "outputs": [
        {
          "output_type": "stream",
          "name": "stdout",
          "text": [
            "0\n",
            "8\n",
            "16\n",
            "24\n",
            "-1\n",
            "-1\n",
            "-1\n",
            "-1\n",
            "-1\n"
          ]
        }
      ],
      "source": [
        "for n in range(1,10):\n",
        "    pos = find_nth(our_string, \"love\", n)\n",
        "    print(pos)"
      ]
    },
    {
      "cell_type": "code",
      "execution_count": 66,
      "metadata": {
        "id": "sGbcgbz2s63c"
      },
      "outputs": [],
      "source": [
        "def find_nth(str_to_search, for_str, nth, base=0):\n",
        "\n",
        "    first = str_to_search.find(for_str)\n",
        "    #print(nth, str_to_search)\n",
        "\n",
        "    if first == -1 and nth == 1:\n",
        "        return -1\n",
        "    elif nth == 1:\n",
        "        return first + base\n",
        "    else:\n",
        "        return find_nth(str_to_search[first+1:], for_str, nth-1, base+first+1)\n"
      ]
    },
    {
      "cell_type": "code",
      "execution_count": 67,
      "metadata": {
        "id": "ffujiqP1s63c",
        "outputId": "921c219f-9d7d-45f1-887c-54d0aa384245",
        "colab": {
          "base_uri": "https://localhost:8080/"
        }
      },
      "outputs": [
        {
          "output_type": "stream",
          "name": "stdout",
          "text": [
            "0\n",
            "8\n",
            "16\n",
            "24\n",
            "-1\n",
            "-1\n",
            "-1\n",
            "-1\n",
            "-1\n"
          ]
        }
      ],
      "source": [
        "for n in range(1,10):\n",
        "    pos = find_nth(\"love is love is love is love\", \"love\", n)\n",
        "    print(pos)"
      ]
    },
    {
      "cell_type": "code",
      "execution_count": null,
      "metadata": {
        "id": "b0VJbl1ps63d"
      },
      "outputs": [],
      "source": []
    }
  ],
  "metadata": {
    "kernelspec": {
      "display_name": "Python 3",
      "language": "python",
      "name": "python3"
    },
    "language_info": {
      "codemirror_mode": {
        "name": "ipython",
        "version": 3
      },
      "file_extension": ".py",
      "mimetype": "text/x-python",
      "name": "python",
      "nbconvert_exporter": "python",
      "pygments_lexer": "ipython3",
      "version": "3.6.7"
    },
    "colab": {
      "provenance": []
    }
  },
  "nbformat": 4,
  "nbformat_minor": 0
}