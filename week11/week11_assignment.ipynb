{
  "cells": [
    {
      "cell_type": "markdown",
      "metadata": {
        "id": "view-in-github",
        "colab_type": "text"
      },
      "source": [
        "<a href=\"https://colab.research.google.com/github/Saiharshi1/HDS5210_InClass/blob/master/week11/week11_assignment.ipynb\" target=\"_parent\"><img src=\"https://colab.research.google.com/assets/colab-badge.svg\" alt=\"Open In Colab\"/></a>"
      ]
    },
    {
      "cell_type": "markdown",
      "metadata": {
        "id": "7WIU5haHa1R9"
      },
      "source": [
        "# Week 11 Assignment\n",
        "\n",
        "\n",
        "Please do the programming exercise and verify that your code works using the tests, then think about your final project and fill out the questions in the second part.\n",
        "\n",
        "---\n",
        "---"
      ]
    },
    {
      "cell_type": "markdown",
      "metadata": {
        "id": "LxzEKQVla1SB"
      },
      "source": [
        "### 47.1: Filtering and summarizing data\n",
        "\n",
        "For this work, you'll find a data file in `/data/complications_all.csv`.\n",
        "\n",
        "Read in the data file and create a variable called `mo_hospitals` that contains a data frame from the `complications_all.csv` file, filtered down to only contain those hospitals from the state of Missouri (MO).\n",
        "\n",
        "Then aggregate that data by hospital into a variable named `mo_summary`.  There are some key fields that we want to summarize:\n",
        "* We want to know the earliest date that each hospital was participating in any program\n",
        "* We want to know the latest date that each hospital stopped participating in any program\n",
        "* We want to know the total number of patients in the denominators of these programs\n",
        "\n",
        "Some things to note:\n",
        "* You will need to convert the `Start Date` and `End Date` to actual datetime fields\n",
        "* You will need to clean up and convert the `Denominator` field to just be numeric - the rule that you should use it to simply remove any records where the `Denominator` is `'Not Available'`\n",
        "\n",
        "\n",
        "The final result of this step should be a new data frame called `mo_summary` that contains one row for each hospital and contains the min start date, max end date, and total denominator.  Use the names `start_date`, `end_date`, and `number` for those columns in `mo_summary`.\n",
        "\n",
        "\n",
        "You do not need to create your code in the form of a function, just make sure your variable names match what I've described above so the tests work."
      ]
    },
    {
      "cell_type": "code",
      "execution_count": 16,
      "metadata": {
        "id": "t4zs8nNma1SD"
      },
      "outputs": [],
      "source": [
        "import pandas as pd\n",
        "# This is just to show you the name to use for the variable you need to create for this step to pass.\n",
        "all_hospitals = pd.read_csv('https://hds5210-data.s3.amazonaws.com/complications_all.csv')\n"
      ]
    },
    {
      "cell_type": "code",
      "execution_count": 17,
      "metadata": {
        "id": "2V13M6hza1SE",
        "outputId": "72e1b13b-6998-4a10-90af-d641e5c52dd5",
        "colab": {
          "base_uri": "https://localhost:8080/"
        }
      },
      "outputs": [
        {
          "output_type": "stream",
          "name": "stdout",
          "text": [
            "Shape of mo_summary: (115, 4)\n"
          ]
        },
        {
          "output_type": "stream",
          "name": "stderr",
          "text": [
            "<ipython-input-17-619a84648d03>:8: SettingWithCopyWarning: \n",
            "A value is trying to be set on a copy of a slice from a DataFrame.\n",
            "Try using .loc[row_indexer,col_indexer] = value instead\n",
            "\n",
            "See the caveats in the documentation: https://pandas.pydata.org/pandas-docs/stable/user_guide/indexing.html#returning-a-view-versus-a-copy\n",
            "  mo_hospitals['Start Date'] = pd.to_datetime(mo_hospitals['Start Date'], errors='coerce')\n",
            "<ipython-input-17-619a84648d03>:9: SettingWithCopyWarning: \n",
            "A value is trying to be set on a copy of a slice from a DataFrame.\n",
            "Try using .loc[row_indexer,col_indexer] = value instead\n",
            "\n",
            "See the caveats in the documentation: https://pandas.pydata.org/pandas-docs/stable/user_guide/indexing.html#returning-a-view-versus-a-copy\n",
            "  mo_hospitals['End Date'] = pd.to_datetime(mo_hospitals['End Date'], errors='coerce')\n",
            "<ipython-input-17-619a84648d03>:12: SettingWithCopyWarning: \n",
            "A value is trying to be set on a copy of a slice from a DataFrame.\n",
            "Try using .loc[row_indexer,col_indexer] = value instead\n",
            "\n",
            "See the caveats in the documentation: https://pandas.pydata.org/pandas-docs/stable/user_guide/indexing.html#returning-a-view-versus-a-copy\n",
            "  mo_hospitals['Denominator'] = pd.to_numeric(mo_hospitals['Denominator'], errors='coerce')\n"
          ]
        }
      ],
      "source": [
        "# 1. Read in the data file\n",
        "complications_df = pd.read_csv('complications_all.csv')\n",
        "\n",
        "# 2. Filter the data for Missouri (MO)\n",
        "mo_hospitals = complications_df[complications_df['State'] == 'MO']\n",
        "\n",
        "# 3. Convert 'Start Date' and 'End Date' to datetime\n",
        "mo_hospitals['Start Date'] = pd.to_datetime(mo_hospitals['Start Date'], errors='coerce')\n",
        "mo_hospitals['End Date'] = pd.to_datetime(mo_hospitals['End Date'], errors='coerce')\n",
        "\n",
        "# 4. Clean up the 'Denominator' field by converting to numeric and handling 'Not Available'\n",
        "mo_hospitals['Denominator'] = pd.to_numeric(mo_hospitals['Denominator'], errors='coerce')\n",
        "\n",
        "# 5. Aggregate by hospital\n",
        "mo_summary = mo_hospitals.groupby('Facility Name').agg(\n",
        "    start_date=('Start Date', 'min'),\n",
        "    end_date=('End Date', 'max'),\n",
        "    number=('Denominator', 'sum')\n",
        ").reset_index()\n",
        "\n",
        "print(f\"Shape of mo_summary: {mo_summary.shape}\")\n",
        "assert(mo_summary.shape[0] == 115)\n",
        "# Check if row count matches the assertion.\n",
        "# This line checks the total number of columns, which should be 4 due to the index column.\n",
        "assert(mo_summary.shape[1] == 4)"
      ]
    },
    {
      "cell_type": "code",
      "execution_count": 20,
      "metadata": {
        "id": "-dC7cQ16a1SF"
      },
      "outputs": [],
      "source": [
        "assert(mo_summary['number'].sum() == 1766908)\n",
        "assert(mo_summary['start_date'].min() == pd.Timestamp(2015,4,1))\n",
        "assert(mo_summary['end_date'].max() == pd.Timestamp(2018,6,30))\n",
        "assert(mo_summary.shape == (115,3))\n",
        "assert(mo_summary.loc['BARNES JEWISH HOSPITAL'].number == 131313)\n",
        "assert(mo_summary.loc['BOONE HOSPITAL CENTER'].number == 63099)"
      ]
    },
    {
      "cell_type": "markdown",
      "metadata": {
        "id": "wHzdjpX3a1SF"
      },
      "source": [
        "---\n",
        "\n",
        "### 47.2 Planning your final project\n",
        "\n",
        "You should be thinking about the things we've been learning and how you can apply them to your final project.  Use the rubric to help guid your thinking and then answer the questions below.  This is meant as a guide to help you think through what you will do."
      ]
    },
    {
      "cell_type": "markdown",
      "metadata": {
        "id": "sV5JDHsDa1SG"
      },
      "source": [
        "#### A) Data Access\n",
        "\n",
        "Your project should include data from at least three distinct types of sources.  For example: AWS S3, Relational Databases, Internet, Web Services, local files.  List what data sources you're planning to use."
      ]
    },
    {
      "cell_type": "markdown",
      "metadata": {
        "id": "eqsHcI2Oa1SG"
      },
      "source": [
        "\n",
        "\n",
        "For my project, I plan to use data from the following three distinct types of sources:\n",
        "\n",
        "Relational Databases:\n",
        "I will access data from a MySQL or PostgreSQL database hosted on a cloud provider (e.g., AWS RDS or Google Cloud SQL). This could include structured data related to hospital records, patient demographics, or clinical data. These databases will allow me to pull in data for analysis or reporting purposes.\n",
        "\n",
        "Local Files:\n",
        "Local CSV files will be used for extracting and processing smaller datasets, such as patient treatment history, clinic performance, or other project-specific metrics. These could be exported from other systems or generated from business tools in the organization.\n",
        "\n",
        "Web Services (APIs):\n",
        "I will incorporate data from a public API or third-party service. This could include hospital-specific APIs that provide real-time data, such as staffing, hospital ratings, or even real-time health statistics (e.g., API access to CDC or WHO data). This will allow me to access dynamic and continuously updated information.\n",
        "\n",
        "These three types of sources will provide a broad spectrum of data from static and structured (databases, files) to dynamic and unstructured (web services).\n"
      ]
    },
    {
      "cell_type": "markdown",
      "metadata": {
        "id": "CxQflCtca1SG"
      },
      "source": [
        "#### B. Data Formats\n",
        "\n",
        "Your project should include data that comes in different file formats.  For example: HL7, EDI, HTML, CSV, Excel, JSON, XML.  List what data formats you're planning to use."
      ]
    },
    {
      "cell_type": "markdown",
      "metadata": {
        "id": "2fIdtXtLa1SH"
      },
      "source": [
        "I will work with the following data formats for this project:\n",
        "\n",
        "CSV (Comma-Separated Values):\n",
        "CSV is a common format for data export and import, especially for structured tabular data. I expect to use CSV files for historical hospital and patient data and for easily sharing datasets between different systems.\n",
        "\n",
        "JSON (JavaScript Object Notation):\n",
        "I will use JSON for data retrieved from APIs and web services. JSON is a lightweight data interchange format, and it's particularly useful when working with hierarchical or nested data. APIs often return data in JSON format, and this will help integrate third-party services or public health databases.\n",
        "\n",
        "SQL (Structured Query Language):\n",
        "Data stored in relational databases will be accessed using SQL queries. SQL databases will contain structured data with complex relationships (e.g., hospital information, patient records, treatment details), which I can query using SELECT statements to retrieve relevant subsets of data.\n",
        "\n",
        "These formats will ensure flexibility in working with different data sources, whether static or dynamic, and will facilitate data transformation and integration.\n"
      ]
    },
    {
      "cell_type": "markdown",
      "metadata": {
        "id": "klGO9WSEa1SH"
      },
      "source": [
        "#### C. Objective\n",
        "\n",
        "What purpose would your project serve in a real work setting?  Take a couple of paragraphs to write down why this is an interesting product."
      ]
    },
    {
      "cell_type": "markdown",
      "metadata": {
        "id": "yMnrjoLua1SH"
      },
      "source": [
        "The goal of my project is to develop a data analysis tool that can help healthcare organizations improve patient care and operational efficiency by leveraging data from various sources. The project would have multiple practical applications in a real-world setting, including:\n",
        "\n",
        "Operational Reporting and Insights:\n",
        "By aggregating data from hospitals and health systems, my project will provide decision-makers with key performance indicators (KPIs) on patient volumes, treatment outcomes, and hospital performance. For example, by analyzing the patient demographic data and treatment history, hospitals can track how well specific treatments or interventions are working across different populations. This information can guide future treatment plans, staffing decisions, and resource allocation.\n",
        "\n",
        "Predictive Analytics:\n",
        "In the longer term, my project could be expanded to use predictive analytics to forecast patient outcomes or hospital readmission rates. By analyzing historical data alongside real-time data from web services and APIs, hospitals could identify early warning signs for patients at risk of adverse outcomes. For example, by combining historical health data with real-time weather patterns or community health data (from APIs), hospitals could predict and prepare for increases in hospital visits during flu season or heatwaves.\n",
        "\n",
        "Data Integration and Accessibility:\n",
        "One of the unique aspects of this project is its ability to integrate data from diverse sources (databases, APIs, local files) into a unified reporting interface. This would allow healthcare organizations to get a 360-degree view of their operations, bridging data silos between departments (e.g., clinical, administrative, and financial). For example, by integrating patient data with billing data, the hospital could optimize their revenue cycle by identifying discrepancies between treatment costs and reimbursements. This would improve both patient outcomes and financial performance.\n",
        "\n",
        "In a real work setting, this tool would serve as an all-in-one data analysis and reporting platform that helps healthcare managers and stakeholders make data-driven decisions. The integration of multiple data sources and formats would allow organizations to handle diverse and complex datasets efficiently, improving the quality of patient care while optimizing operational costs.\n"
      ]
    },
    {
      "cell_type": "markdown",
      "metadata": {
        "id": "1Se3x4yta1SI"
      },
      "source": [
        "\n",
        "\n",
        "---\n",
        "\n",
        "\n",
        "\n",
        "## Submit your work via GitHub as normal\n"
      ]
    }
  ],
  "metadata": {
    "kernelspec": {
      "display_name": "Python 3",
      "language": "python",
      "name": "python3"
    },
    "language_info": {
      "codemirror_mode": {
        "name": "ipython",
        "version": 3
      },
      "file_extension": ".py",
      "mimetype": "text/x-python",
      "name": "python",
      "nbconvert_exporter": "python",
      "pygments_lexer": "ipython3",
      "version": "3.9.16"
    },
    "colab": {
      "provenance": [],
      "include_colab_link": true
    }
  },
  "nbformat": 4,
  "nbformat_minor": 0
}